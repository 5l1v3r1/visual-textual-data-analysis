{
 "cells": [
  {
   "cell_type": "code",
   "execution_count": 4,
   "metadata": {},
   "outputs": [],
   "source": [
    "import pandas as pd\n",
    "import seaborn as sns"
   ]
  },
  {
   "cell_type": "code",
   "execution_count": 5,
   "metadata": {},
   "outputs": [
    {
     "name": "stdout",
     "output_type": "stream",
     "text": [
      "              answer   in_text  in_image  in_speaker     other\n",
      "answer      1.000000 -0.060838 -0.067361    0.066767  0.001280\n",
      "in_text    -0.060838  1.000000  0.150832   -0.220482 -0.478034\n",
      "in_image   -0.067361  0.150832  1.000000   -0.090738 -0.328326\n",
      "in_speaker  0.066767 -0.220482 -0.090738    1.000000 -0.696646\n",
      "other       0.001280 -0.478034 -0.328326   -0.696646  1.000000\n"
     ]
    },
    {
     "data": {
      "image/png": "[encoded data removed]",
      "text/plain": [
       "<Figure size 432x288 with 2 Axes>"
      ]
     },
     "metadata": {},
     "output_type": "display_data"
    }
   ],
   "source": [
    "complete_df = pd.read_csv('data/complete_data.csv')\n",
    "corr = complete_df.corr()\n",
    "sns.heatmap(corr, \n",
    "            xticklabels=corr.columns.values,\n",
    "            yticklabels=corr.columns.values)\n",
    "print(corr)"
   ]
  },
  {
   "cell_type": "code",
   "execution_count": 158,
   "metadata": {},
   "outputs": [
    {
     "data": {
      "text/html": [
       "<div>\n",
       "<style scoped>\n",
       "    .dataframe tbody tr th:only-of-type {\n",
       "        vertical-align: middle;\n",
       "    }\n",
       "\n",
       "    .dataframe tbody tr th {\n",
       "        vertical-align: top;\n",
       "    }\n",
       "\n",
       "    .dataframe thead th {\n",
       "        text-align: right;\n",
       "    }\n",
       "</style>\n",
       "<table border=\"1\" class=\"dataframe\">\n",
       "  <thead>\n",
       "    <tr style=\"text-align: right;\">\n",
       "      <th></th>\n",
       "      <th>answers</th>\n",
       "      <th>in_text</th>\n",
       "      <th>in_image</th>\n",
       "      <th>in_speaker</th>\n",
       "      <th>other</th>\n",
       "    </tr>\n",
       "  </thead>\n",
       "  <tbody>\n",
       "    <tr>\n",
       "      <th>answers</th>\n",
       "      <td>1.000000</td>\n",
       "      <td>0.007604</td>\n",
       "      <td>-0.088048</td>\n",
       "      <td>0.189007</td>\n",
       "      <td>-0.161201</td>\n",
       "    </tr>\n",
       "    <tr>\n",
       "      <th>in_text</th>\n",
       "      <td>0.007604</td>\n",
       "      <td>1.000000</td>\n",
       "      <td>0.256921</td>\n",
       "      <td>-0.407460</td>\n",
       "      <td>-0.256837</td>\n",
       "    </tr>\n",
       "    <tr>\n",
       "      <th>in_image</th>\n",
       "      <td>-0.088048</td>\n",
       "      <td>0.256921</td>\n",
       "      <td>1.000000</td>\n",
       "      <td>-0.196860</td>\n",
       "      <td>-0.344281</td>\n",
       "    </tr>\n",
       "    <tr>\n",
       "      <th>in_speaker</th>\n",
       "      <td>0.189007</td>\n",
       "      <td>-0.407460</td>\n",
       "      <td>-0.196860</td>\n",
       "      <td>1.000000</td>\n",
       "      <td>-0.705774</td>\n",
       "    </tr>\n",
       "    <tr>\n",
       "      <th>other</th>\n",
       "      <td>-0.161201</td>\n",
       "      <td>-0.256837</td>\n",
       "      <td>-0.344281</td>\n",
       "      <td>-0.705774</td>\n",
       "      <td>1.000000</td>\n",
       "    </tr>\n",
       "  </tbody>\n",
       "</table>\n",
       "</div>"
      ],
      "text/plain": [
       "             answers   in_text  in_image  in_speaker     other\n",
       "answers     1.000000  0.007604 -0.088048    0.189007 -0.161201\n",
       "in_text     0.007604  1.000000  0.256921   -0.407460 -0.256837\n",
       "in_image   -0.088048  0.256921  1.000000   -0.196860 -0.344281\n",
       "in_speaker  0.189007 -0.407460 -0.196860    1.000000 -0.705774\n",
       "other      -0.161201 -0.256837 -0.344281   -0.705774  1.000000"
      ]
     },
     "execution_count": 158,
     "metadata": {},
     "output_type": "execute_result"
    }
   ],
   "source": [
    "df2 = pd.read_csv('p_data/p_complete.csv')\n",
    "df2.corr()"
   ]
  },
  {
   "cell_type": "code",
   "execution_count": 160,
   "metadata": {},
   "outputs": [
    {
     "data": {
      "text/html": [
       "<div>\n",
       "<style scoped>\n",
       "    .dataframe tbody tr th:only-of-type {\n",
       "        vertical-align: middle;\n",
       "    }\n",
       "\n",
       "    .dataframe tbody tr th {\n",
       "        vertical-align: top;\n",
       "    }\n",
       "\n",
       "    .dataframe thead th {\n",
       "        text-align: right;\n",
       "    }\n",
       "</style>\n",
       "<table border=\"1\" class=\"dataframe\">\n",
       "  <thead>\n",
       "    <tr style=\"text-align: right;\">\n",
       "      <th></th>\n",
       "      <th>answer</th>\n",
       "      <th>in_text</th>\n",
       "      <th>in_image</th>\n",
       "      <th>in_speaker</th>\n",
       "    </tr>\n",
       "  </thead>\n",
       "  <tbody>\n",
       "    <tr>\n",
       "      <th>answer</th>\n",
       "      <td>1.000000</td>\n",
       "      <td>-0.000218</td>\n",
       "      <td>0.127472</td>\n",
       "      <td>-0.069567</td>\n",
       "    </tr>\n",
       "    <tr>\n",
       "      <th>in_text</th>\n",
       "      <td>-0.000218</td>\n",
       "      <td>1.000000</td>\n",
       "      <td>-0.178319</td>\n",
       "      <td>-0.843132</td>\n",
       "    </tr>\n",
       "    <tr>\n",
       "      <th>in_image</th>\n",
       "      <td>0.127472</td>\n",
       "      <td>-0.178319</td>\n",
       "      <td>1.000000</td>\n",
       "      <td>-0.378736</td>\n",
       "    </tr>\n",
       "    <tr>\n",
       "      <th>in_speaker</th>\n",
       "      <td>-0.069567</td>\n",
       "      <td>-0.843132</td>\n",
       "      <td>-0.378736</td>\n",
       "      <td>1.000000</td>\n",
       "    </tr>\n",
       "  </tbody>\n",
       "</table>\n",
       "</div>"
      ],
      "text/plain": [
       "              answer   in_text  in_image  in_speaker\n",
       "answer      1.000000 -0.000218  0.127472   -0.069567\n",
       "in_text    -0.000218  1.000000 -0.178319   -0.843132\n",
       "in_image    0.127472 -0.178319  1.000000   -0.378736\n",
       "in_speaker -0.069567 -0.843132 -0.378736    1.000000"
      ]
     },
     "execution_count": 160,
     "metadata": {},
     "output_type": "execute_result"
    }
   ],
   "source": [
    "b1_df = pd.read_csv('b_data/b_final_max.csv')\n",
    "b1_df.corr()"
   ]
  },
  {
   "cell_type": "code",
   "execution_count": 167,
   "metadata": {},
   "outputs": [
    {
     "data": {
      "text/plain": [
       "(0.006553276655707744, 0.9494732267176078)"
      ]
     },
     "execution_count": 167,
     "metadata": {},
     "output_type": "execute_result"
    }
   ],
   "source": [
    "from scipy.stats import pearsonr\n",
    "pearsonr(df['answer'], df['in_image'])"
   ]
  },
  {
   "cell_type": "code",
   "execution_count": 9,
   "metadata": {},
   "outputs": [
    {
     "data": {
      "text/html": [
       "<div>\n",
       "<style scoped>\n",
       "    .dataframe tbody tr th:only-of-type {\n",
       "        vertical-align: middle;\n",
       "    }\n",
       "\n",
       "    .dataframe tbody tr th {\n",
       "        vertical-align: top;\n",
       "    }\n",
       "\n",
       "    .dataframe thead th {\n",
       "        text-align: right;\n",
       "    }\n",
       "</style>\n",
       "<table border=\"1\" class=\"dataframe\">\n",
       "  <thead>\n",
       "    <tr style=\"text-align: right;\">\n",
       "      <th></th>\n",
       "      <th>answers</th>\n",
       "      <th>in_text</th>\n",
       "      <th>in_image</th>\n",
       "      <th>in_speaker</th>\n",
       "      <th>other</th>\n",
       "    </tr>\n",
       "  </thead>\n",
       "  <tbody>\n",
       "    <tr>\n",
       "      <th>answers</th>\n",
       "      <td>0</td>\n",
       "      <td>0.9343</td>\n",
       "      <td>0.3389</td>\n",
       "      <td>0.0387</td>\n",
       "      <td>0.0786</td>\n",
       "    </tr>\n",
       "    <tr>\n",
       "      <th>in_text</th>\n",
       "      <td>0.9343</td>\n",
       "      <td>0</td>\n",
       "      <td>0.0046</td>\n",
       "      <td>0</td>\n",
       "      <td>0.0046</td>\n",
       "    </tr>\n",
       "    <tr>\n",
       "      <th>in_image</th>\n",
       "      <td>0.3389</td>\n",
       "      <td>0.0046</td>\n",
       "      <td>0</td>\n",
       "      <td>0.0312</td>\n",
       "      <td>0.0001</td>\n",
       "    </tr>\n",
       "    <tr>\n",
       "      <th>in_speaker</th>\n",
       "      <td>0.0387</td>\n",
       "      <td>0</td>\n",
       "      <td>0.0312</td>\n",
       "      <td>0</td>\n",
       "      <td>0</td>\n",
       "    </tr>\n",
       "    <tr>\n",
       "      <th>other</th>\n",
       "      <td>0.0786</td>\n",
       "      <td>0.0046</td>\n",
       "      <td>0.0001</td>\n",
       "      <td>0</td>\n",
       "      <td>0</td>\n",
       "    </tr>\n",
       "  </tbody>\n",
       "</table>\n",
       "</div>"
      ],
      "text/plain": [
       "           answers in_text in_image in_speaker   other\n",
       "answers          0  0.9343   0.3389     0.0387  0.0786\n",
       "in_text     0.9343       0   0.0046          0  0.0046\n",
       "in_image    0.3389  0.0046        0     0.0312  0.0001\n",
       "in_speaker  0.0387       0   0.0312          0       0\n",
       "other       0.0786  0.0046   0.0001          0       0"
      ]
     },
     "execution_count": 9,
     "metadata": {},
     "output_type": "execute_result"
    }
   ],
   "source": [
    "from scipy.stats import pearsonr\n",
    "import pandas as pd\n",
    "\n",
    "def calculate_pvalues(df):\n",
    "    df = df.dropna()._get_numeric_data()\n",
    "    dfcols = pd.DataFrame(columns=df.columns)\n",
    "    pvalues = dfcols.transpose().join(dfcols, how='outer')\n",
    "    for r in df.columns:\n",
    "        for c in df.columns:\n",
    "            pvalues[r][c] = round(pearsonr(df[r], df[c])[1], 4)\n",
    "    return pvalues\n",
    "\n",
    "df = pd.read_csv('p_data/p_complete.csv')\n",
    "calculate_pvalues(df)"
   ]
  },
  {
   "cell_type": "code",
   "execution_count": 3,
   "metadata": {},
   "outputs": [
    {
     "data": {
      "image/png": "[encoded data removed]",
      "text/plain": [
       "<Figure size 432x216 with 1 Axes>"
      ]
     },
     "metadata": {},
     "output_type": "display_data"
    }
   ],
   "source": [
    "import numpy as np\n",
    "import matplotlib.pyplot as plt\n",
    "%matplotlib inline\n",
    "\n",
    "\n",
    "fig, ax = plt.subplots(figsize=(6, 3), subplot_kw=dict(aspect=\"equal\"))\n",
    "\n",
    "recipe = [\"Text Score\",\n",
    "          \"Visual Score\",\n",
    "          \"Other\",\n",
    "         \"Speaker Score\"]\n",
    "\n",
    "data = [58, 9, 30, 11]\n",
    "\n",
    "wedges, texts = ax.pie(data, wedgeprops=dict(width=0.5), startangle=-40)\n",
    "\n",
    "bbox_props = dict(boxstyle=\"square,pad=0.3\", fc=\"w\", ec=\"k\", lw=0.72)\n",
    "kw = dict(xycoords='data', textcoords='data', arrowprops=dict(arrowstyle=\"-\"),\n",
    "          bbox=bbox_props, zorder=0, va=\"center\")\n",
    "\n",
    "for i, p in enumerate(wedges):\n",
    "    ang = (p.theta2 - p.theta1)/2. + p.theta1\n",
    "    y = np.sin(np.deg2rad(ang))\n",
    "    x = np.cos(np.deg2rad(ang))\n",
    "    horizontalalignment = {-1: \"right\", 1: \"left\"}[int(np.sign(x))]\n",
    "    connectionstyle = \"angle,angleA=0,angleB={}\".format(ang)\n",
    "    kw[\"arrowprops\"].update({\"connectionstyle\": connectionstyle})\n",
    "    ax.annotate(recipe[i], xy=(x, y), xytext=(1.35*np.sign(x), 1.4*y),\n",
    "                 horizontalalignment=horizontalalignment, **kw)\n",
    "\n",
    "ax.set_title(\"Frequency of Classes\")\n",
    "\n",
    "plt.show()"
   ]
  },
  {
   "cell_type": "code",
   "execution_count": null,
   "metadata": {},
   "outputs": [],
   "source": []
  }
 ],
 "metadata": {
  "kernelspec": {
   "display_name": "Python 3",
   "language": "python",
   "name": "python3"
  },
  "language_info": {
   "codemirror_mode": {
    "name": "ipython",
    "version": 3
   },
   "file_extension": ".py",
   "mimetype": "text/x-python",
   "name": "python",
   "nbconvert_exporter": "python",
   "pygments_lexer": "ipython3",
   "version": "3.6.5"
  }
 },
 "nbformat": 4,
 "nbformat_minor": 2
}
