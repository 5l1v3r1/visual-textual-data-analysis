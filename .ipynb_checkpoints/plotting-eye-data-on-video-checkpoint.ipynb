{
 "cells": [
  {
   "cell_type": "code",
   "execution_count": 1,
   "metadata": {},
   "outputs": [],
   "source": [
    "import cv2\n",
    "import pandas as pd"
   ]
  },
  {
   "cell_type": "code",
   "execution_count": 2,
   "metadata": {},
   "outputs": [
    {
     "data": {
      "text/plain": [
       "890"
      ]
     },
     "execution_count": 2,
     "metadata": {},
     "output_type": "execute_result"
    }
   ],
   "source": [
    "df = pd.read_csv('test_data.csv')\n",
    "df.head(5)\n",
    "x = df['CURRENT_FIX_X']\n",
    "y = df['CURRENT_FIX_Y']\n",
    "len(x)"
   ]
  },
  {
   "cell_type": "code",
   "execution_count": 6,
   "metadata": {},
   "outputs": [
    {
     "name": "stdout",
     "output_type": "stream",
     "text": [
      "success True\n",
      "count 8968\n",
      "i 888\n"
     ]
    }
   ],
   "source": [
    "vidcap = cv2.VideoCapture('/Users/mayanksaxena/Desktop/gesture-analysis/videos/bicycle.avi')\n",
    "success,image = vidcap.read()\n",
    "print('success', success)\n",
    "count = 0\n",
    "x = df['CURRENT_FIX_X']\n",
    "y = df['CURRENT_FIX_Y']\n",
    "i = 0\n",
    "while success:\n",
    "    success,image = vidcap.read()\n",
    "    #print('Read a new frame: ', success)\n",
    "    count += 1\n",
    "    if (i < 888):\n",
    "        i += 1\n",
    "        if (count % 10 == 0):\n",
    "            x_coord = int(x[i])\n",
    "            y_coord = int(y[i])\n",
    "            z =(x_coord,y_coord)\n",
    "            cv2.circle(image,z, 5, (0,0,255), -1)\n",
    "            cv2.imwrite(\"processed-videos/bicycle/frame%d.jpg\" % i, image)\n",
    "            \n",
    "print('count', count)\n",
    "print('i', i)"
   ]
  },
  {
   "cell_type": "code",
   "execution_count": 7,
   "metadata": {},
   "outputs": [],
   "source": [
    "in_slide = []\n",
    "\n",
    "x = df['CURRENT_FIX_X']\n",
    "y = df['CURRENT_FIX_Y']\n",
    "\n",
    "top_left_x = 233\n",
    "top_left_y = 74\n",
    "bottom_right_x = 830 \n",
    "bottom_right_y = 414\n",
    "for i in range(len(x)):\n",
    "    x_coord = int(x[i])\n",
    "    y_coord = int(y[i])\n",
    "    \n",
    "    if ((top_left_x <= x_coord <= bottom_right_x) and (top_left_y <= y_coord <= bottom_right_y)):\n",
    "        # Point is within the slide\n",
    "        in_slide.append(1)\n",
    "    else:\n",
    "        in_slide.append(0)"
   ]
  },
  {
   "cell_type": "code",
   "execution_count": 8,
   "metadata": {},
   "outputs": [],
   "source": [
    "df['in_slide'] = in_slide"
   ]
  },
  {
   "cell_type": "code",
   "execution_count": 9,
   "metadata": {},
   "outputs": [
    {
     "data": {
      "text/html": [
       "<div>\n",
       "<style scoped>\n",
       "    .dataframe tbody tr th:only-of-type {\n",
       "        vertical-align: middle;\n",
       "    }\n",
       "\n",
       "    .dataframe tbody tr th {\n",
       "        vertical-align: top;\n",
       "    }\n",
       "\n",
       "    .dataframe thead th {\n",
       "        text-align: right;\n",
       "    }\n",
       "</style>\n",
       "<table border=\"1\" class=\"dataframe\">\n",
       "  <thead>\n",
       "    <tr style=\"text-align: right;\">\n",
       "      <th></th>\n",
       "      <th>CURRENT_FIX_X</th>\n",
       "      <th>CURRENT_FIX_Y</th>\n",
       "      <th>CURRENT_FIX_PUPIL</th>\n",
       "      <th>in_slide</th>\n",
       "    </tr>\n",
       "  </thead>\n",
       "  <tbody>\n",
       "    <tr>\n",
       "      <th>6</th>\n",
       "      <td>510.7</td>\n",
       "      <td>378.3</td>\n",
       "      <td>2538</td>\n",
       "      <td>1</td>\n",
       "    </tr>\n",
       "    <tr>\n",
       "      <th>7</th>\n",
       "      <td>790.3</td>\n",
       "      <td>188.4</td>\n",
       "      <td>2520</td>\n",
       "      <td>1</td>\n",
       "    </tr>\n",
       "    <tr>\n",
       "      <th>8</th>\n",
       "      <td>1000.5</td>\n",
       "      <td>121.3</td>\n",
       "      <td>2513</td>\n",
       "      <td>0</td>\n",
       "    </tr>\n",
       "    <tr>\n",
       "      <th>9</th>\n",
       "      <td>830.6</td>\n",
       "      <td>-17.7</td>\n",
       "      <td>2129</td>\n",
       "      <td>0</td>\n",
       "    </tr>\n",
       "  </tbody>\n",
       "</table>\n",
       "</div>"
      ],
      "text/plain": [
       "   CURRENT_FIX_X  CURRENT_FIX_Y  CURRENT_FIX_PUPIL  in_slide\n",
       "6          510.7          378.3               2538         1\n",
       "7          790.3          188.4               2520         1\n",
       "8         1000.5          121.3               2513         0\n",
       "9          830.6          -17.7               2129         0"
      ]
     },
     "execution_count": 9,
     "metadata": {},
     "output_type": "execute_result"
    }
   ],
   "source": [
    "df[6:10]"
   ]
  },
  {
   "cell_type": "code",
   "execution_count": 10,
   "metadata": {},
   "outputs": [],
   "source": [
    "df.to_csv('test_data_with_in_slide.csv')"
   ]
  },
  {
   "cell_type": "code",
   "execution_count": 22,
   "metadata": {},
   "outputs": [],
   "source": [
    "import cv2\n",
    "import numpy as np\n",
    "from cv2 import boundingRect, countNonZero, cvtColor, drawContours, findContours, getStructuringElement, imread, morphologyEx, pyrDown, rectangle, threshold\n",
    "\n",
    "image_path = 'test-image/1.png'\n",
    "large = imread(image_path)\n",
    "# downsample and use it for processing\n",
    "rgb = pyrDown(large)\n",
    "# apply grayscale\n",
    "small = cvtColor(rgb, cv2.COLOR_BGR2GRAY)\n",
    "# morphological gradient\n",
    "morph_kernel = getStructuringElement(cv2.MORPH_ELLIPSE, (3, 3))\n",
    "grad = morphologyEx(small, cv2.MORPH_GRADIENT, morph_kernel)\n",
    "# binarize\n",
    "_, bw = threshold(src=grad, thresh=0, maxval=255, type=cv2.THRESH_BINARY+cv2.THRESH_OTSU)\n",
    "morph_kernel = getStructuringElement(cv2.MORPH_RECT, (9, 1))\n",
    "# connect horizontally oriented regions\n",
    "connected = morphologyEx(bw, cv2.MORPH_CLOSE, morph_kernel)\n",
    "mask = np.zeros(bw.shape, np.uint8)\n",
    "# find contours\n",
    "im2, contours, hierarchy = findContours(connected, cv2.RETR_CCOMP, cv2.CHAIN_APPROX_SIMPLE)\n",
    "# filter contours\n",
    "for idx in range(0, len(hierarchy[0])):\n",
    "    rect = x, y, rect_width, rect_height = boundingRect(contours[idx])\n",
    "    # fill the contour\n",
    "    mask = drawContours(mask, contours, idx, (255, 255, 2555), cv2.FILLED)\n",
    "    # ratio of non-zero pixels in the filled region\n",
    "    r = float(countNonZero(mask)) / (rect_width * rect_height)\n",
    "    if r > 0.45 and rect_height > 8 and rect_width > 8:\n",
    "        rgb = rectangle(rgb, (x, y+rect_height), (x+rect_width, y), (0,255,0),3)"
   ]
  },
  {
   "cell_type": "code",
   "execution_count": 23,
   "metadata": {},
   "outputs": [],
   "source": [
    "from PIL import Image\n",
    "Image.fromarray(rgb).show()"
   ]
  },
  {
   "cell_type": "code",
   "execution_count": 18,
   "metadata": {},
   "outputs": [
    {
     "name": "stdout",
     "output_type": "stream",
     "text": [
      "success True\n",
      "count 8987\n",
      "i 888\n"
     ]
    }
   ],
   "source": [
    "vidcap = cv2.VideoCapture('/Users/mayanksaxena/Desktop/gesture-analysis/closeup-videos/bicycle.mp4')\n",
    "success,image = vidcap.read()\n",
    "print('success', success)\n",
    "count = 0\n",
    "i = 0\n",
    "x = df['CURRENT_FIX_X']\n",
    "y = df['CURRENT_FIX_Y']\n",
    "while success:\n",
    "    success,image = vidcap.read()\n",
    "    #print('Read a new frame: ', success)\n",
    "    count += 1\n",
    "    if (i < 888):\n",
    "        i += 1\n",
    "        if (count % 10 == 0):\n",
    "            x_coord = int(x[i])\n",
    "            y_coord = int(y[i])\n",
    "            z =(x_coord,y_coord)\n",
    "            cv2.circle(image,z, 5, (0,0,255), -1)\n",
    "            cv2.imwrite(\"closeup-videos-frames/frame%d.jpg\" % i, image)\n",
    "            \n",
    "print('count', count)\n",
    "print('i', i)"
   ]
  },
  {
   "cell_type": "code",
   "execution_count": 29,
   "metadata": {},
   "outputs": [],
   "source": [
    "import cv2\n",
    "import os\n",
    "\n",
    "def convert_to_video(path):\n",
    "    image_folder = path\n",
    "    video_name = 'video.avi'\n",
    "\n",
    "    images = [img for img in os.listdir(image_folder) if img.endswith(\".jpg\")]\n",
    "    frame = cv2.imread(os.path.join(image_folder, images[0]))\n",
    "    height, width, layers = frame.shape\n",
    "\n",
    "    #video = cv2.VideoWriter(video_name, -1, 1, (width,height))\n",
    "    video = cv2.VideoWriter('outpy.avi',cv2.VideoWriter_fourcc('M','J','P','G'), 3, (width,height))\n",
    "    \n",
    "    for image in images:\n",
    "        video.write(cv2.imread(os.path.join(image_folder, image)))\n",
    "\n",
    "    cv2.destroyAllWindows()\n",
    "    video.release()"
   ]
  },
  {
   "cell_type": "code",
   "execution_count": 30,
   "metadata": {},
   "outputs": [],
   "source": [
    "convert_to_video('/Users/mayanksaxena/Desktop/gesture-analysis/processed-videos/bicycle/')"
   ]
  },
  {
   "cell_type": "code",
   "execution_count": 23,
   "metadata": {},
   "outputs": [],
   "source": [
    "import os\n",
    "\n",
    "def save(path):\n",
    "    s = \"ffmpeg -r 30 -i \" + path + \" -vcodec mpeg4 -y movie.mp4\"\n",
    "    s2 = \"ffmpeg -r 30 -i frame%01d.jpg -vcodec mpeg4 -y movie.mp4\"\n",
    "    print('s =', s)\n",
    "    #os.system(\"ffmpeg -r 30 -i frame%01d.jpg -vcodec mpeg4 -y movie.mp4\")\n",
    "    os.system(\"cd /Users/mayanksaxena/Desktop/gesture-analysis/processed-videos/bicycle/\")\n",
    "    print(os.system(\"pwd\"))\n",
    "    os.system(s2)"
   ]
  },
  {
   "cell_type": "code",
   "execution_count": 24,
   "metadata": {},
   "outputs": [
    {
     "name": "stdout",
     "output_type": "stream",
     "text": [
      "s = ffmpeg -r 30 -i /Users/mayanksaxena/Desktop/gesture-analysis/processed-videos/bicycle/.*jpg -vcodec mpeg4 -y movie.mp4\n",
      "0\n"
     ]
    }
   ],
   "source": [
    "save('/Users/mayanksaxena/Desktop/gesture-analysis/processed-videos/bicycle/.*jpg')"
   ]
  },
  {
   "cell_type": "code",
   "execution_count": null,
   "metadata": {},
   "outputs": [],
   "source": []
  }
 ],
 "metadata": {
  "kernelspec": {
   "display_name": "Python 3",
   "language": "python",
   "name": "python3"
  },
  "language_info": {
   "codemirror_mode": {
    "name": "ipython",
    "version": 3
   },
   "file_extension": ".py",
   "mimetype": "text/x-python",
   "name": "python",
   "nbconvert_exporter": "python",
   "pygments_lexer": "ipython3",
   "version": "3.6.5"
  }
 },
 "nbformat": 4,
 "nbformat_minor": 2
}
