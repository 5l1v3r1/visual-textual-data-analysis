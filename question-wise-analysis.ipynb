{
 "cells": [
  {
   "cell_type": "code",
   "execution_count": 4,
   "metadata": {},
   "outputs": [],
   "source": [
    "import pandas as pd\n",
    "import seaborn as sns"
   ]
  },
  {
   "cell_type": "code",
   "execution_count": 5,
   "metadata": {},
   "outputs": [
    {
     "name": "stdout",
     "output_type": "stream",
     "text": [
      "              answer   in_text  in_image  in_speaker     other\n",
      "answer      1.000000 -0.060838 -0.067361    0.066767  0.001280\n",
      "in_text    -0.060838  1.000000  0.150832   -0.220482 -0.478034\n",
      "in_image   -0.067361  0.150832  1.000000   -0.090738 -0.328326\n",
      "in_speaker  0.066767 -0.220482 -0.090738    1.000000 -0.696646\n",
      "other       0.001280 -0.478034 -0.328326   -0.696646  1.000000\n"
     ]
    },
    {
     "data": {
      "image/png": "[encoded data removed]",
      "text/plain": [
       "<Figure size 432x288 with 2 Axes>"
      ]
     },
     "metadata": {},
     "output_type": "display_data"
    }
   ],
   "source": [
    "complete_df = pd.read_csv('data/complete_data.csv')\n",
    "corr = complete_df.corr()\n",
    "sns.heatmap(corr, \n",
    "            xticklabels=corr.columns.values,\n",
    "            yticklabels=corr.columns.values)\n",
    "print(corr)"
   ]
  },
  {
   "cell_type": "code",
   "execution_count": 6,
   "metadata": {},
   "outputs": [
    {
     "name": "stdout",
     "output_type": "stream",
     "text": [
      "              answer   in_text  in_image  in_speaker     other\n",
      "answer      1.000000 -0.113353 -0.046628    0.036157  0.065635\n",
      "in_text    -0.113353  1.000000  0.179433   -0.365072 -0.493832\n",
      "in_image   -0.046628  0.179433  1.000000    0.102998 -0.419207\n",
      "in_speaker  0.036157 -0.365072  0.102998    1.000000 -0.611166\n",
      "other       0.065635 -0.493832 -0.419207   -0.611166  1.000000\n"
     ]
    },
    {
     "data": {
      "image/png": "[encoded data removed]",
      "text/plain": [
       "<Figure size 432x288 with 2 Axes>"
      ]
     },
     "metadata": {},
     "output_type": "display_data"
    }
   ],
   "source": [
    "infer_df = pd.read_csv('data/infer.csv')\n",
    "corr = infer_df.corr()\n",
    "sns.heatmap(corr, \n",
    "            xticklabels=corr.columns.values,\n",
    "            yticklabels=corr.columns.values)\n",
    "print(corr)"
   ]
  },
  {
   "cell_type": "code",
   "execution_count": 7,
   "metadata": {},
   "outputs": [
    {
     "name": "stdout",
     "output_type": "stream",
     "text": [
      "              answer   in_text  in_image  in_speaker     other\n",
      "answer      1.000000 -0.017466 -0.078860    0.089676 -0.043123\n",
      "in_text    -0.017466  1.000000  0.207983   -0.288923 -0.362786\n",
      "in_image   -0.078860  0.207983  1.000000   -0.118246 -0.382408\n",
      "in_speaker  0.089676 -0.288923 -0.118246    1.000000 -0.714918\n",
      "other      -0.043123 -0.362786 -0.382408   -0.714918  1.000000\n"
     ]
    },
    {
     "data": {
      "image/png": "[encoded data removed]",
      "text/plain": [
       "<Figure size 432x288 with 2 Axes>"
      ]
     },
     "metadata": {},
     "output_type": "display_data"
    }
   ],
   "source": [
    "recall_df = pd.read_csv('data/recall.csv')\n",
    "corr = recall_df.corr()\n",
    "sns.heatmap(corr, \n",
    "            xticklabels=corr.columns.values,\n",
    "            yticklabels=corr.columns.values)\n",
    "print(corr)"
   ]
  },
  {
   "cell_type": "code",
   "execution_count": 8,
   "metadata": {},
   "outputs": [],
   "source": [
    "from scipy.stats import pearsonr\n",
    "import pandas as pd\n",
    "\n",
    "def calculate_pvalues(df):\n",
    "    df = df.dropna()._get_numeric_data()\n",
    "    dfcols = pd.DataFrame(columns=df.columns)\n",
    "    pvalues = dfcols.transpose().join(dfcols, how='outer')\n",
    "    for r in df.columns:\n",
    "        for c in df.columns:\n",
    "            pvalues[r][c] = round(pearsonr(df[r], df[c])[1], 4)\n",
    "    return pvalues"
   ]
  },
  {
   "cell_type": "code",
   "execution_count": 9,
   "metadata": {},
   "outputs": [
    {
     "data": {
      "text/html": [
       "<div>\n",
       "<style scoped>\n",
       "    .dataframe tbody tr th:only-of-type {\n",
       "        vertical-align: middle;\n",
       "    }\n",
       "\n",
       "    .dataframe tbody tr th {\n",
       "        vertical-align: top;\n",
       "    }\n",
       "\n",
       "    .dataframe thead th {\n",
       "        text-align: right;\n",
       "    }\n",
       "</style>\n",
       "<table border=\"1\" class=\"dataframe\">\n",
       "  <thead>\n",
       "    <tr style=\"text-align: right;\">\n",
       "      <th></th>\n",
       "      <th>answer</th>\n",
       "      <th>in_text</th>\n",
       "      <th>in_image</th>\n",
       "      <th>in_speaker</th>\n",
       "      <th>other</th>\n",
       "    </tr>\n",
       "  </thead>\n",
       "  <tbody>\n",
       "    <tr>\n",
       "      <th>answer</th>\n",
       "      <td>0</td>\n",
       "      <td>0.3736</td>\n",
       "      <td>0.3244</td>\n",
       "      <td>0.3287</td>\n",
       "      <td>0.9851</td>\n",
       "    </tr>\n",
       "    <tr>\n",
       "      <th>in_text</th>\n",
       "      <td>0.3736</td>\n",
       "      <td>0</td>\n",
       "      <td>0.0267</td>\n",
       "      <td>0.0011</td>\n",
       "      <td>0</td>\n",
       "    </tr>\n",
       "    <tr>\n",
       "      <th>in_image</th>\n",
       "      <td>0.3244</td>\n",
       "      <td>0.0267</td>\n",
       "      <td>0</td>\n",
       "      <td>0.184</td>\n",
       "      <td>0</td>\n",
       "    </tr>\n",
       "    <tr>\n",
       "      <th>in_speaker</th>\n",
       "      <td>0.3287</td>\n",
       "      <td>0.0011</td>\n",
       "      <td>0.184</td>\n",
       "      <td>0</td>\n",
       "      <td>0</td>\n",
       "    </tr>\n",
       "    <tr>\n",
       "      <th>other</th>\n",
       "      <td>0.9851</td>\n",
       "      <td>0</td>\n",
       "      <td>0</td>\n",
       "      <td>0</td>\n",
       "      <td>0</td>\n",
       "    </tr>\n",
       "  </tbody>\n",
       "</table>\n",
       "</div>"
      ],
      "text/plain": [
       "            answer in_text in_image in_speaker   other\n",
       "answer           0  0.3736   0.3244     0.3287  0.9851\n",
       "in_text     0.3736       0   0.0267     0.0011       0\n",
       "in_image    0.3244  0.0267        0      0.184       0\n",
       "in_speaker  0.3287  0.0011    0.184          0       0\n",
       "other       0.9851       0        0          0       0"
      ]
     },
     "execution_count": 9,
     "metadata": {},
     "output_type": "execute_result"
    }
   ],
   "source": [
    "calculate_pvalues(complete_df)"
   ]
  },
  {
   "cell_type": "code",
   "execution_count": 10,
   "metadata": {},
   "outputs": [
    {
     "data": {
      "text/html": [
       "<div>\n",
       "<style scoped>\n",
       "    .dataframe tbody tr th:only-of-type {\n",
       "        vertical-align: middle;\n",
       "    }\n",
       "\n",
       "    .dataframe tbody tr th {\n",
       "        vertical-align: top;\n",
       "    }\n",
       "\n",
       "    .dataframe thead th {\n",
       "        text-align: right;\n",
       "    }\n",
       "</style>\n",
       "<table border=\"1\" class=\"dataframe\">\n",
       "  <thead>\n",
       "    <tr style=\"text-align: right;\">\n",
       "      <th></th>\n",
       "      <th>answer</th>\n",
       "      <th>in_text</th>\n",
       "      <th>in_image</th>\n",
       "      <th>in_speaker</th>\n",
       "      <th>other</th>\n",
       "    </tr>\n",
       "  </thead>\n",
       "  <tbody>\n",
       "    <tr>\n",
       "      <th>answer</th>\n",
       "      <td>0</td>\n",
       "      <td>0.3431</td>\n",
       "      <td>0.6973</td>\n",
       "      <td>0.763</td>\n",
       "      <td>0.5838</td>\n",
       "    </tr>\n",
       "    <tr>\n",
       "      <th>in_text</th>\n",
       "      <td>0.3431</td>\n",
       "      <td>0</td>\n",
       "      <td>0.1315</td>\n",
       "      <td>0.0016</td>\n",
       "      <td>0</td>\n",
       "    </tr>\n",
       "    <tr>\n",
       "      <th>in_image</th>\n",
       "      <td>0.6973</td>\n",
       "      <td>0.1315</td>\n",
       "      <td>0</td>\n",
       "      <td>0.3893</td>\n",
       "      <td>0.0002</td>\n",
       "    </tr>\n",
       "    <tr>\n",
       "      <th>in_speaker</th>\n",
       "      <td>0.763</td>\n",
       "      <td>0.0016</td>\n",
       "      <td>0.3893</td>\n",
       "      <td>0</td>\n",
       "      <td>0</td>\n",
       "    </tr>\n",
       "    <tr>\n",
       "      <th>other</th>\n",
       "      <td>0.5838</td>\n",
       "      <td>0</td>\n",
       "      <td>0.0002</td>\n",
       "      <td>0</td>\n",
       "      <td>0</td>\n",
       "    </tr>\n",
       "  </tbody>\n",
       "</table>\n",
       "</div>"
      ],
      "text/plain": [
       "            answer in_text in_image in_speaker   other\n",
       "answer           0  0.3431   0.6973      0.763  0.5838\n",
       "in_text     0.3431       0   0.1315     0.0016       0\n",
       "in_image    0.6973  0.1315        0     0.3893  0.0002\n",
       "in_speaker   0.763  0.0016   0.3893          0       0\n",
       "other       0.5838       0   0.0002          0       0"
      ]
     },
     "execution_count": 10,
     "metadata": {},
     "output_type": "execute_result"
    }
   ],
   "source": [
    "calculate_pvalues(infer_df)"
   ]
  },
  {
   "cell_type": "code",
   "execution_count": 11,
   "metadata": {},
   "outputs": [
    {
     "data": {
      "text/html": [
       "<div>\n",
       "<style scoped>\n",
       "    .dataframe tbody tr th:only-of-type {\n",
       "        vertical-align: middle;\n",
       "    }\n",
       "\n",
       "    .dataframe tbody tr th {\n",
       "        vertical-align: top;\n",
       "    }\n",
       "\n",
       "    .dataframe thead th {\n",
       "        text-align: right;\n",
       "    }\n",
       "</style>\n",
       "<table border=\"1\" class=\"dataframe\">\n",
       "  <thead>\n",
       "    <tr style=\"text-align: right;\">\n",
       "      <th></th>\n",
       "      <th>answer</th>\n",
       "      <th>in_text</th>\n",
       "      <th>in_image</th>\n",
       "      <th>in_speaker</th>\n",
       "      <th>other</th>\n",
       "    </tr>\n",
       "  </thead>\n",
       "  <tbody>\n",
       "    <tr>\n",
       "      <th>answer</th>\n",
       "      <td>0</td>\n",
       "      <td>0.8354</td>\n",
       "      <td>0.3475</td>\n",
       "      <td>0.2851</td>\n",
       "      <td>0.6078</td>\n",
       "    </tr>\n",
       "    <tr>\n",
       "      <th>in_text</th>\n",
       "      <td>0.8354</td>\n",
       "      <td>0</td>\n",
       "      <td>0.0124</td>\n",
       "      <td>0.0004</td>\n",
       "      <td>0</td>\n",
       "    </tr>\n",
       "    <tr>\n",
       "      <th>in_image</th>\n",
       "      <td>0.3475</td>\n",
       "      <td>0.0124</td>\n",
       "      <td>0</td>\n",
       "      <td>0.1581</td>\n",
       "      <td>0</td>\n",
       "    </tr>\n",
       "    <tr>\n",
       "      <th>in_speaker</th>\n",
       "      <td>0.2851</td>\n",
       "      <td>0.0004</td>\n",
       "      <td>0.1581</td>\n",
       "      <td>0</td>\n",
       "      <td>0</td>\n",
       "    </tr>\n",
       "    <tr>\n",
       "      <th>other</th>\n",
       "      <td>0.6078</td>\n",
       "      <td>0</td>\n",
       "      <td>0</td>\n",
       "      <td>0</td>\n",
       "      <td>0</td>\n",
       "    </tr>\n",
       "  </tbody>\n",
       "</table>\n",
       "</div>"
      ],
      "text/plain": [
       "            answer in_text in_image in_speaker   other\n",
       "answer           0  0.8354   0.3475     0.2851  0.6078\n",
       "in_text     0.8354       0   0.0124     0.0004       0\n",
       "in_image    0.3475  0.0124        0     0.1581       0\n",
       "in_speaker  0.2851  0.0004   0.1581          0       0\n",
       "other       0.6078       0        0          0       0"
      ]
     },
     "execution_count": 11,
     "metadata": {},
     "output_type": "execute_result"
    }
   ],
   "source": [
    "calculate_pvalues(recall_df)"
   ]
  },
  {
   "cell_type": "code",
   "execution_count": null,
   "metadata": {},
   "outputs": [],
   "source": []
  }
 ],
 "metadata": {
  "kernelspec": {
   "display_name": "Python 3",
   "language": "python",
   "name": "python3"
  },
  "language_info": {
   "codemirror_mode": {
    "name": "ipython",
    "version": 3
   },
   "file_extension": ".py",
   "mimetype": "text/x-python",
   "name": "python",
   "nbconvert_exporter": "python",
   "pygments_lexer": "ipython3",
   "version": "3.6.5"
  }
 },
 "nbformat": 4,
 "nbformat_minor": 2
}
